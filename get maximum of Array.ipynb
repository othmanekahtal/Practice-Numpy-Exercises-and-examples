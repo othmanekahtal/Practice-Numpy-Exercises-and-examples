{
 "cells": [
  {
   "cell_type": "code",
   "execution_count": 13,
   "id": "athletic-priority",
   "metadata": {},
   "outputs": [],
   "source": [
    "import numpy as nmp"
   ]
  },
  {
   "cell_type": "code",
   "execution_count": 14,
   "id": "threatened-attempt",
   "metadata": {},
   "outputs": [
    {
     "data": {
      "text/plain": [
       "array([[ 6,  9,  9,  1, 10],\n",
       "       [ 0,  6, 11,  7,  8],\n",
       "       [ 1,  0,  6, 12,  7]])"
      ]
     },
     "execution_count": 14,
     "metadata": {},
     "output_type": "execute_result"
    }
   ],
   "source": [
    "a=nmp.random.randint(16,size=(3,5))\n",
    "a"
   ]
  },
  {
   "cell_type": "code",
   "execution_count": 16,
   "id": "behind-light",
   "metadata": {},
   "outputs": [
    {
     "data": {
      "text/plain": [
       "array([ 6,  9, 11, 12, 10])"
      ]
     },
     "execution_count": 16,
     "metadata": {},
     "output_type": "execute_result"
    }
   ],
   "source": [
    "max_value_of_columns= nmp.max(a,axis=0)\n",
    "max_value_of_columns"
   ]
  },
  {
   "cell_type": "code",
   "execution_count": 15,
   "id": "abstract-orange",
   "metadata": {},
   "outputs": [
    {
     "data": {
      "text/plain": [
       "array([0, 0, 6, 1, 7])"
      ]
     },
     "execution_count": 15,
     "metadata": {},
     "output_type": "execute_result"
    }
   ],
   "source": [
    "min_value_of_columns= nmp.min(a,axis=0)\n",
    "min_value_of_columns"
   ]
  },
  {
   "cell_type": "code",
   "execution_count": 18,
   "id": "structured-current",
   "metadata": {},
   "outputs": [
    {
     "data": {
      "text/plain": [
       "array([10, 11, 12])"
      ]
     },
     "execution_count": 18,
     "metadata": {},
     "output_type": "execute_result"
    }
   ],
   "source": [
    "max_value_of_rows=nmp.max(a,axis=1)\n",
    "max_value_of_rows"
   ]
  },
  {
   "cell_type": "code",
   "execution_count": 20,
   "id": "large-strap",
   "metadata": {},
   "outputs": [
    {
     "data": {
      "text/plain": [
       "array([1, 0, 0])"
      ]
     },
     "execution_count": 20,
     "metadata": {},
     "output_type": "execute_result"
    }
   ],
   "source": [
    "min_value_of_rows = nmp.min(a,axis=1)\n",
    "min_value_of_rows"
   ]
  },
  {
   "cell_type": "code",
   "execution_count": null,
   "id": "leading-webcam",
   "metadata": {},
   "outputs": [],
   "source": []
  }
 ],
 "metadata": {
  "kernelspec": {
   "display_name": "Python 3",
   "language": "python",
   "name": "python3"
  },
  "language_info": {
   "codemirror_mode": {
    "name": "ipython",
    "version": 3
   },
   "file_extension": ".py",
   "mimetype": "text/x-python",
   "name": "python",
   "nbconvert_exporter": "python",
   "pygments_lexer": "ipython3",
   "version": "3.8.3"
  }
 },
 "nbformat": 4,
 "nbformat_minor": 5
}
